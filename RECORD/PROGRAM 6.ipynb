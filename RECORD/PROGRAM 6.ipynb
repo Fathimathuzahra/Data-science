{
 "cells": [
  {
   "cell_type": "code",
   "execution_count": null,
   "id": "e16fa5db",
   "metadata": {},
   "outputs": [],
   "source": [
    "AIM:- NAIVE BAYES ALGORITHM \n",
    "    Question 1:- Program to implement Naïve Bayes algorithm using any standard \n",
    "    dataset available in the public domain and find the accuracy of the \n",
    "    algorithm."
   ]
  },
  {
   "cell_type": "code",
   "execution_count": 1,
   "id": "43cf9bc0",
   "metadata": {},
   "outputs": [
    {
     "name": "stdout",
     "output_type": "stream",
     "text": [
      "Accuracy: 100.00%\n",
      "New sample shape: (1, 4)\n",
      "Model expects: 4 features\n",
      "Prediction: [0]\n",
      "Predicted class: setosa\n"
     ]
    }
   ],
   "source": [
    "# AIM: Naïve Bayes Algorithm on Iris Dataset\n",
    "\n",
    "import numpy as np \n",
    "from sklearn import datasets \n",
    "from sklearn.model_selection import train_test_split \n",
    "from sklearn.naive_bayes import GaussianNB \n",
    "from sklearn.metrics import accuracy_score \n",
    "\n",
    "# Load the Iris dataset \n",
    "iris = datasets.load_iris() \n",
    "X = iris.data \n",
    "y = iris.target \n",
    "\n",
    "# Split the data into training and testing sets (80% training, 20% testing) \n",
    "X_train, X_test, y_train, y_test = train_test_split(X, y, test_size=0.2, random_state=42) \n",
    "\n",
    "# Create a Gaussian Naive Bayes classifier \n",
    "nb_classifier = GaussianNB() \n",
    "\n",
    "# Train the classifier using the training data \n",
    "nb_classifier.fit(X_train, y_train) \n",
    "\n",
    "# Make predictions on the testing data \n",
    "y_pred = nb_classifier.predict(X_test) \n",
    "\n",
    "# Calculate the accuracy of the classifier \n",
    "accuracy = accuracy_score(y_test, y_pred) \n",
    "print(f\"Accuracy: {accuracy * 100:.2f}%\") \n",
    "\n",
    "# Predict on a new sample \n",
    "new_sample = np.array([[5.1, 3.5, 1.4, 0.2]])  # Example flower\n",
    "\n",
    "print(\"New sample shape:\", new_sample.shape)\n",
    "print(\"Model expects:\", nb_classifier.n_features_in_, \"features\")\n",
    "\n",
    "prediction = nb_classifier.predict(new_sample)\n",
    "print(\"Prediction:\", prediction)\n",
    "print(\"Predicted class:\", iris.target_names[prediction[0]])"
   ]
  },
  {
   "cell_type": "code",
   "execution_count": 4,
   "id": "fbc98e29",
   "metadata": {},
   "outputs": [
    {
     "name": "stdout",
     "output_type": "stream",
     "text": [
      "confusion_matrix \n",
      " [[10  0  0]\n",
      " [ 0  9  0]\n",
      " [ 0  0 11]]\n",
      "Classification_report \n",
      "               precision    recall  f1-score   support\n",
      "\n",
      "           0       1.00      1.00      1.00        10\n",
      "           1       1.00      1.00      1.00         9\n",
      "           2       1.00      1.00      1.00        11\n",
      "\n",
      "    accuracy                           1.00        30\n",
      "   macro avg       1.00      1.00      1.00        30\n",
      "weighted avg       1.00      1.00      1.00        30\n",
      "\n",
      "Accuracy:\n",
      " 1.0\n"
     ]
    }
   ],
   "source": [
    "#naive bayes\n",
    "import numpy as np\n",
    "from sklearn import datasets,metrics\n",
    "from sklearn.model_selection import train_test_split\n",
    "from sklearn.naive_bayes import GaussianNB\n",
    "from sklearn.metrics import accuracy_score,confusion_matrix,classification_report\n",
    "\n",
    "#load the iris dataset\n",
    "\n",
    "iris=datasets.load_iris()\n",
    "X=iris.data\n",
    "y=iris.target\n",
    "#split the data into training and testing sets(80% training,20% testing)\n",
    "X_train,X_test,y_train,y_test=train_test_split(X,y,test_size=0.2,random_state=42)\n",
    "\n",
    "#create a Gaussian Naive Bayes classifier\n",
    "nb_classifier=GaussianNB()\n",
    "\n",
    "#Train the classifier using the train data\n",
    "nb_classifier.fit(X_train,y_train)\n",
    "\n",
    "#make predictions on the testing data\n",
    "y_pred=nb_classifier.predict(X_test)\n",
    "\n",
    "#consusion matrix\n",
    "res=confusion_matrix(y_test,y_pred)\n",
    "print(\"confusion_matrix \\n\",res)\n",
    "\n",
    "#classification report\n",
    "res1=classification_report(y_test,y_pred)\n",
    "print(\"Classification_report \\n\",res1)\n",
    "\n",
    "#calculate the accuracy of the classifier\n",
    "accuracy=accuracy_score(y_test,y_pred)\n",
    "print(\"Accuracy:\\n\",accuracy)\n",
    "# print(f\"Accuracy: {accuracy*100:.2f}%\")"
   ]
  },
  {
   "cell_type": "code",
   "execution_count": 7,
   "id": "f5317d1f",
   "metadata": {},
   "outputs": [
    {
     "name": "stdout",
     "output_type": "stream",
     "text": [
      "[0]\n",
      "1.0\n"
     ]
    }
   ],
   "source": [
    "import numpy as np\n",
    "import pandas as pd\n",
    "# from sklearn.datasets import load_iris\n",
    "from sklearn.model_selection import train_test_split\n",
    "from sklearn.naive_bayes import GaussianNB\n",
    "from sklearn.metrics import accuracy_score\n",
    "from sklearn.preprocessing import LabelEncoder\n",
    "\n",
    "data = pd.read_csv('food.csv')\n",
    "\n",
    "X = data.iloc[:, :3]\n",
    "# print(X)\n",
    "y= data.iloc[:, 3]\n",
    "\n",
    "le = LabelEncoder()\n",
    "categorical_columns = ['Ingredient']\n",
    "for col in categorical_columns:\n",
    "   X[col] = le.fit_transform(X[col])\n",
    "   y = le.fit_transform(y)\n",
    "\n",
    "X_train,X_test,y_train,y_test = train_test_split(X,y,test_size=0.2,random_state=42)\n",
    "\n",
    "knn = GaussianNB()\n",
    "knn.fit(X_train,y_train)\n",
    "y_pred = knn.predict(X_test)\n",
    "\n",
    "sample=[[1,10,9]]\n",
    "k=knn.predict(sample)\n",
    "print(k)\n",
    "\n",
    "accuracy = accuracy_score(y_test,y_pred)\n",
    "print(accuracy)"
   ]
  },
  {
   "cell_type": "code",
   "execution_count": null,
   "id": "f320fb2a",
   "metadata": {},
   "outputs": [],
   "source": []
  }
 ],
 "metadata": {
  "kernelspec": {
   "display_name": "Python 3 (ipykernel)",
   "language": "python",
   "name": "python3"
  },
  "language_info": {
   "codemirror_mode": {
    "name": "ipython",
    "version": 3
   },
   "file_extension": ".py",
   "mimetype": "text/x-python",
   "name": "python",
   "nbconvert_exporter": "python",
   "pygments_lexer": "ipython3",
   "version": "3.9.7"
  }
 },
 "nbformat": 4,
 "nbformat_minor": 5
}
