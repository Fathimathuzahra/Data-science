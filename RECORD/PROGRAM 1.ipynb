{
 "cells": [
  {
   "cell_type": "code",
   "execution_count": null,
   "id": "4116a955",
   "metadata": {},
   "outputs": [],
   "source": [
    " AIM: Review of python program. \n",
    "Question1:- Write a python program to create a calculator. \n",
    "     2. Write a basic program for Boolean operation. \n",
    "     3. Write a program to merge two dictionaries. \n",
    "     4. Write a program to print largest among 3 numbers from user inputs. \n",
    "     5. Write a program to Perform basic List operations such as append,  \n",
    "        insert, delete, remove and copy."
   ]
  },
  {
   "cell_type": "code",
   "execution_count": 1,
   "id": "b19b7965",
   "metadata": {},
   "outputs": [
    {
     "name": "stdout",
     "output_type": "stream",
     "text": [
      "Select operation: 1.Addition, 2.Substraction, 3.multiplication, 4.Division, /\n",
      "Enter choice: 1\n",
      "Enter first number: 1\n",
      "Enter second number: 2\n",
      "Result: 3.0\n"
     ]
    }
   ],
   "source": [
    "print(\"Select operation: 1.Addition, 2.Substraction, 3.multiplication, 4.Division, /\") \n",
    "ch = input(\"Enter choice: \") \n",
    "num1 = float(input(\"Enter first number: \")) \n",
    "num2 = float(input(\"Enter second number: \")) \n",
    " \n",
    "if ch == '1': \n",
    "    print(\"Result:\", num1 + num2) \n",
    "elif ch == '2': \n",
    "    print(\"Result:\", num1 - num2) \n",
    "elif ch == '3': \n",
    "    print(\"Result:\", num1 * num2) \n",
    "elif ch == '4': \n",
    "    if num2 != 0: \n",
    "        print(\"Result:\", num1 / num2) \n",
    "    else: \n",
    "        print(\"Error: Division by zero!\") \n",
    "else: \n",
    "    print(\"Invalid operator\")"
   ]
  },
  {
   "cell_type": "code",
   "execution_count": 2,
   "id": "c71fc7bb",
   "metadata": {},
   "outputs": [
    {
     "name": "stdout",
     "output_type": "stream",
     "text": [
      "a AND b: 8\n",
      "a OR b: 5\n",
      "NOT a: False\n",
      "a > b: False\n",
      "a == b: False\n",
      "a >= b: False\n",
      "a <= b: True\n",
      "a < b: True\n"
     ]
    }
   ],
   "source": [
    "a = 5 \n",
    "b = 8 \n",
    "print(\"a AND b:\", a and b) \n",
    "print(\"a OR b:\", a or b) \n",
    "print(\"NOT a:\", not a) \n",
    "print(\"a > b:\", a > b) \n",
    "print(\"a == b:\", a == b) \n",
    "print(\"a >= b:\", a >= b) \n",
    "print(\"a <= b:\", a <= b) \n",
    "print(\"a < b:\", a < b)"
   ]
  },
  {
   "cell_type": "code",
   "execution_count": 3,
   "id": "ba961e87",
   "metadata": {},
   "outputs": [
    {
     "name": "stdout",
     "output_type": "stream",
     "text": [
      "Merged Dictionary: {'a': 1, 'b': 2, 'c': 3, 'd': 4}\n"
     ]
    }
   ],
   "source": [
    "def merge_dictionaries(): \n",
    "    dict1 = {'a': 1, 'b': 2} \n",
    "    dict2 = {'c': 3, 'd': 4} \n",
    "    merged_dict = dict1.copy() \n",
    "    merged_dict.update(dict2) \n",
    "    print(\"Merged Dictionary:\", merged_dict) \n",
    "\n",
    "merge_dictionaries()"
   ]
  },
  {
   "cell_type": "code",
   "execution_count": null,
   "id": "27b50a79",
   "metadata": {},
   "outputs": [],
   "source": []
  }
 ],
 "metadata": {
  "kernelspec": {
   "display_name": "Python 3 (ipykernel)",
   "language": "python",
   "name": "python3"
  },
  "language_info": {
   "codemirror_mode": {
    "name": "ipython",
    "version": 3
   },
   "file_extension": ".py",
   "mimetype": "text/x-python",
   "name": "python",
   "nbconvert_exporter": "python",
   "pygments_lexer": "ipython3",
   "version": "3.9.7"
  }
 },
 "nbformat": 4,
 "nbformat_minor": 5
}
