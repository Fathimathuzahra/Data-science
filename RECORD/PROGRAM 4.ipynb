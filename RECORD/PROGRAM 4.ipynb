{
 "cells": [
  {
   "cell_type": "code",
   "execution_count": null,
   "id": "89a68583",
   "metadata": {},
   "outputs": [],
   "source": [
    "PROGRAM 4 \n",
    "    AIM:-Programs to handle data using pandas. \n",
    "    Question 1:- Write a program to implement list to series conversion. \n",
    "    2. Write a python program to generate the series of dates from 20th         \n",
    "    November 2024 to 24th November 2024(both inclusive). \n",
    "    3. Given a 2D list convert it in to corresponding data frame and display it. \n",
    "    4. Create a dictionary and convert it in to corresponding data frame . \n",
    "    5. Display the head and tail of the data’s. \n",
    "    6. Write python program that given a data frame select find two rows and \n",
    "    display. \n",
    "    7. Given a data frame with nan values replace the nan value with 0."
   ]
  },
  {
   "cell_type": "code",
   "execution_count": 1,
   "id": "f244c7d1",
   "metadata": {},
   "outputs": [
    {
     "name": "stdout",
     "output_type": "stream",
     "text": [
      "0    1\n",
      "1    7\n",
      "2    2\n",
      "dtype: int64\n"
     ]
    }
   ],
   "source": [
    "#Pandas Series from a list \n",
    "import pandas as pd \n",
    "a = [1, 7, 2] \n",
    "myvar = pd.Series(a) \n",
    "print(myvar)"
   ]
  },
  {
   "cell_type": "code",
   "execution_count": 3,
   "id": "ab77340e",
   "metadata": {},
   "outputs": [
    {
     "name": "stdout",
     "output_type": "stream",
     "text": [
      "Date Series:\n",
      "2024-11-20 00:00:00\n",
      "2024-11-21 00:00:00\n",
      "2024-11-22 00:00:00\n",
      "2024-11-23 00:00:00\n",
      "2024-11-24 00:00:00\n"
     ]
    }
   ],
   "source": [
    "import pandas as pd \n",
    "\n",
    "# Date range \n",
    "date_series = pd.date_range(start='2024-11-20', end='2024-11-24') \n",
    "\n",
    "print(\"Date Series:\") \n",
    "for date in date_series: \n",
    "    print(date)"
   ]
  },
  {
   "cell_type": "code",
   "execution_count": 4,
   "id": "29eb1b85",
   "metadata": {},
   "outputs": [
    {
     "name": "stdout",
     "output_type": "stream",
     "text": [
      "2D List to DataFrame:\n",
      "    ID Name  Age\n",
      "0  101    A   23\n",
      "1  102    B   25\n",
      "2  103    C   22\n"
     ]
    }
   ],
   "source": [
    "import pandas as pd \n",
    "# 2D List \n",
    "data = [[101, 'A', 23], \n",
    "[102, 'B', 25], \n",
    "[103, 'C', 22]] \n",
    "# Convert to DataFrame \n",
    "df = pd.DataFrame(data, columns=['ID', 'Name', 'Age']) \n",
    "print(\"2D List to DataFrame:\") \n",
    "print(df)"
   ]
  },
  {
   "cell_type": "code",
   "execution_count": 5,
   "id": "9a0fe56d",
   "metadata": {},
   "outputs": [
    {
     "name": "stdout",
     "output_type": "stream",
     "text": [
      "   calories  duration\n",
      "0       420        50\n",
      "1       380        40\n",
      "2       390        45\n"
     ]
    }
   ],
   "source": [
    "#DataFrames \n",
    "import pandas as pd \n",
    "data = { \n",
    "\"calories\": [420, 380, 390], \n",
    "\"duration\": [50, 40, 45] \n",
    "} \n",
    "#load data into a DataFrame object: \n",
    "df = pd.DataFrame(data) \n",
    "print(df)"
   ]
  },
  {
   "cell_type": "code",
   "execution_count": 6,
   "id": "788557f1",
   "metadata": {},
   "outputs": [
    {
     "name": "stdout",
     "output_type": "stream",
     "text": [
      "Head of the DataFrame:\n",
      "   Roll Name  Marks\n",
      "0     1    A     78\n",
      "1     2    B     82\n",
      "2     3    C     90\n",
      "3     4    D     65\n",
      "4     5    E     85\n",
      "\n",
      "Tail of the DataFrame:\n",
      "   Roll Name  Marks\n",
      "2     3    C     90\n",
      "3     4    D     65\n",
      "4     5    E     85\n",
      "5     6    F     92\n",
      "6     7    G     70\n"
     ]
    }
   ],
   "source": [
    "import pandas as pd \n",
    "# Sample DataFrame \n",
    "df = pd.DataFrame({ \n",
    "'Roll': [1, 2, 3, 4, 5, 6, 7], \n",
    "'Name': ['A', 'B', 'C', 'D', 'E', 'F', 'G'], \n",
    "'Marks': [78, 82, 90, 65, 85, 92, 70] \n",
    "}) \n",
    "print(\"Head of the DataFrame:\") \n",
    "print(df.head()) \n",
    "print(\"\\nTail of the DataFrame:\") \n",
    "print(df.tail())"
   ]
  },
  {
   "cell_type": "code",
   "execution_count": 7,
   "id": "37755305",
   "metadata": {},
   "outputs": [
    {
     "name": "stdout",
     "output_type": "stream",
     "text": [
      "Selected Rows:\n",
      "   ID Name  Age\n",
      "1   2    B   21\n",
      "3   4    D   22\n"
     ]
    }
   ],
   "source": [
    "import pandas as pd \n",
    "# Sample DataFrame \n",
    "df = pd.DataFrame({ \n",
    "'ID': [1, 2, 3, 4], \n",
    "'Name': ['A', 'B', 'C', 'D'], \n",
    "'Age': [20, 21, 19, 22] \n",
    "}) \n",
    "# Select 2 rows by index \n",
    "selected_rows = df.iloc[[1, 3]]  # selecting 2nd and 4th rows \n",
    "print(\"Selected Rows:\") \n",
    "print(selected_rows)"
   ]
  },
  {
   "cell_type": "code",
   "execution_count": null,
   "id": "4fd8dd9b",
   "metadata": {},
   "outputs": [],
   "source": []
  }
 ],
 "metadata": {
  "kernelspec": {
   "display_name": "Python 3 (ipykernel)",
   "language": "python",
   "name": "python3"
  },
  "language_info": {
   "codemirror_mode": {
    "name": "ipython",
    "version": 3
   },
   "file_extension": ".py",
   "mimetype": "text/x-python",
   "name": "python",
   "nbconvert_exporter": "python",
   "pygments_lexer": "ipython3",
   "version": "3.9.7"
  }
 },
 "nbformat": 4,
 "nbformat_minor": 5
}
